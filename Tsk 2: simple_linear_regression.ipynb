{
  "nbformat": 4,
  "nbformat_minor": 0,
  "metadata": {
    "colab": {
      "name": " simple linear regression.ipynb",
      "provenance": [],
      "authorship_tag": "ABX9TyPKv5X3rcZ/Il/Aq+TmzHTf",
      "include_colab_link": true
    },
    "kernelspec": {
      "name": "python3",
      "display_name": "Python 3"
    }
  },
  "cells": [
    {
      "cell_type": "markdown",
      "metadata": {
        "id": "view-in-github",
        "colab_type": "text"
      },
      "source": [
        "<a href=\"https://colab.research.google.com/github/DineshDhakar1997/GRIP/blob/master/Tsk%202%3A%20simple_linear_regression.ipynb\" target=\"_parent\"><img src=\"https://colab.research.google.com/assets/colab-badge.svg\" alt=\"Open In Colab\"/></a>"
      ]
    },
    {
      "cell_type": "markdown",
      "metadata": {
        "id": "FmM99f6ZFMtc",
        "colab_type": "text"
      },
      "source": [
        "### **Simple Linear Regression**"
      ]
    },
    {
      "cell_type": "markdown",
      "metadata": {
        "id": "h_6lO2giFbq7",
        "colab_type": "text"
      },
      "source": [
        "\n",
        "**Importing necessary Libraries.**"
      ]
    },
    {
      "cell_type": "code",
      "metadata": {
        "id": "SNUbNGtpFBvY",
        "colab_type": "code",
        "colab": {}
      },
      "source": [
        "import pandas as pd\n",
        "import numpy as np  \n",
        "import matplotlib.pyplot as plt  "
      ],
      "execution_count": 1,
      "outputs": []
    },
    {
      "cell_type": "markdown",
      "metadata": {
        "id": "v5bhdC_gFr_v",
        "colab_type": "text"
      },
      "source": [
        "Reading data from given link"
      ]
    },
    {
      "cell_type": "code",
      "metadata": {
        "id": "4rgW3FxRFjsE",
        "colab_type": "code",
        "colab": {
          "base_uri": "https://localhost:8080/",
          "height": 119
        },
        "outputId": "e4069aa0-ad62-4943-c4a9-34a92d619ff7"
      },
      "source": [
        "data = pd.read_csv('http://bit.ly/w-data')\n",
        "print(data.head(),  len(data))"
      ],
      "execution_count": 2,
      "outputs": [
        {
          "output_type": "stream",
          "text": [
            "   Hours  Scores\n",
            "0    2.5      21\n",
            "1    5.1      47\n",
            "2    3.2      27\n",
            "3    8.5      75\n",
            "4    3.5      30 25\n"
          ],
          "name": "stdout"
        }
      ]
    },
    {
      "cell_type": "markdown",
      "metadata": {
        "id": "0aLswmYhGLdu",
        "colab_type": "text"
      },
      "source": [
        "Plotting the distribution of scores using matplotlib"
      ]
    },
    {
      "cell_type": "code",
      "metadata": {
        "id": "8tMXmlzfF2RP",
        "colab_type": "code",
        "colab": {
          "base_uri": "https://localhost:8080/",
          "height": 312
        },
        "outputId": "557b5fcf-7de3-4c7a-b6dd-2af006e3a995"
      },
      "source": [
        "plt.scatter(data.Hours,data.Scores)\n",
        "plt.title('Hours vs Percentage')  \n",
        "plt.xlabel('Hours ')  \n",
        "plt.ylabel('Score')  \n"
      ],
      "execution_count": 3,
      "outputs": [
        {
          "output_type": "execute_result",
          "data": {
            "text/plain": [
              "Text(0, 0.5, 'Score')"
            ]
          },
          "metadata": {
            "tags": []
          },
          "execution_count": 3
        },
        {
          "output_type": "display_data",
          "data": {
            "image/png": "[encoded data removed]",
            "text/plain": [
              "<Figure size 432x288 with 1 Axes>"
            ]
          },
          "metadata": {
            "tags": [],
            "needs_background": "light"
          }
        }
      ]
    },
    {
      "cell_type": "markdown",
      "metadata": {
        "id": "fNvndU3FGpF8",
        "colab_type": "text"
      },
      "source": [
        "From here we can conclude that the data is almost linearly scattered."
      ]
    },
    {
      "cell_type": "markdown",
      "metadata": {
        "id": "usMxuk4wymic",
        "colab_type": "text"
      },
      "source": [
        "Dividing the data into inputs and outputs."
      ]
    },
    {
      "cell_type": "code",
      "metadata": {
        "id": "v9LRvPjrGZ3i",
        "colab_type": "code",
        "colab": {}
      },
      "source": [
        "X = data.iloc[:, :-1].values  \n",
        "y = data.iloc[:, 1].values"
      ],
      "execution_count": 4,
      "outputs": []
    },
    {
      "cell_type": "markdown",
      "metadata": {
        "id": "IwijOMPwIlRy",
        "colab_type": "text"
      },
      "source": [
        "## **Training the Algorithm**\n"
      ]
    },
    {
      "cell_type": "markdown",
      "metadata": {
        "id": "TvQ4UCDCknUK",
        "colab_type": "text"
      },
      "source": [
        "splitting this data into training and test sets using train_test_split"
      ]
    },
    {
      "cell_type": "markdown",
      "metadata": {
        "id": "zVAIQvtbEUsb",
        "colab_type": "text"
      },
      "source": [
        "Here test data consist of 20 persent of total data"
      ]
    },
    {
      "cell_type": "code",
      "metadata": {
        "id": "BgIkMKI7IeUA",
        "colab_type": "code",
        "colab": {}
      },
      "source": [
        "from sklearn.model_selection import train_test_split\n",
        "X_train, X_test, y_train, y_test = train_test_split( X, y, test_size=0.2, random_state=42)"
      ],
      "execution_count": 32,
      "outputs": []
    },
    {
      "cell_type": "markdown",
      "metadata": {
        "id": "-Knepmitkpyb",
        "colab_type": "text"
      },
      "source": [
        "Linear Regression"
      ]
    },
    {
      "cell_type": "code",
      "metadata": {
        "id": "WP6ugdH_JttM",
        "colab_type": "code",
        "colab": {
          "base_uri": "https://localhost:8080/",
          "height": 34
        },
        "outputId": "2932b8ee-2dec-4a11-9f8c-687b9a476b46"
      },
      "source": [
        "from sklearn.linear_model import LinearRegression  \n",
        "regressor = LinearRegression()  \n",
        "regressor.fit(X_train, y_train)\n"
      ],
      "execution_count": 71,
      "outputs": [
        {
          "output_type": "execute_result",
          "data": {
            "text/plain": [
              "LinearRegression(copy_X=True, fit_intercept=True, n_jobs=None, normalize=False)"
            ]
          },
          "metadata": {
            "tags": []
          },
          "execution_count": 71
        }
      ]
    },
    {
      "cell_type": "markdown",
      "metadata": {
        "id": "HmPL8bs4k7EW",
        "colab_type": "text"
      },
      "source": [
        "**Mean absolute error on train set**"
      ]
    },
    {
      "cell_type": "code",
      "metadata": {
        "id": "_Or3-5IjVjZO",
        "colab_type": "code",
        "colab": {
          "base_uri": "https://localhost:8080/",
          "height": 34
        },
        "outputId": "881afc17-ac7e-48cc-dc63-4e625edda4e0"
      },
      "source": [
        "y_pred_train = regressor.predict(X_train)\n",
        "from sklearn.metrics import mean_absolute_error,r2_score\n",
        "mse=mean_absolute_error(y_train,y_pred_train)\n",
        "r2=r2_score(y_train,y_pred_train)\n",
        "print(mse,r2)"
      ],
      "execution_count": 34,
      "outputs": [
        {
          "output_type": "stream",
          "text": [
            "5.221357478352559 0.9491209376364416\n"
          ],
          "name": "stdout"
        }
      ]
    },
    {
      "cell_type": "markdown",
      "metadata": {
        "id": "exgf0WTdwkxZ",
        "colab_type": "text"
      },
      "source": [
        "**Predicting percentage score for test data**"
      ]
    },
    {
      "cell_type": "code",
      "metadata": {
        "id": "njXlQbb8VXXN",
        "colab_type": "code",
        "colab": {
          "base_uri": "https://localhost:8080/",
          "height": 119
        },
        "outputId": "b08d7795-cb23-448f-e042-064c1e827a9d"
      },
      "source": [
        "predictions=regressor.predict(X_test)\n",
        "# Comparing Actual_test vs Predicted_test\n",
        "pred_data = pd.DataFrame({'Actual': y_test, 'Predicted': predictions,'difference':abs(y_test-predictions)})  \n",
        "print(pred_data)"
      ],
      "execution_count": 36,
      "outputs": [
        {
          "output_type": "stream",
          "text": [
            "   Actual  Predicted  difference\n",
            "0      81  83.188141    2.188141\n",
            "1      30  27.032088    2.967912\n",
            "2      21  27.032088    6.032088\n",
            "3      76  69.633232    6.366768\n",
            "4      62  59.951153    2.048847\n"
          ],
          "name": "stdout"
        }
      ]
    },
    {
      "cell_type": "markdown",
      "metadata": {
        "id": "YEUu0aX3wbOY",
        "colab_type": "text"
      },
      "source": [
        "**Evaluating the model: mse and r2 score on Test data**"
      ]
    },
    {
      "cell_type": "code",
      "metadata": {
        "id": "c9_6A3S2qxTC",
        "colab_type": "code",
        "colab": {
          "base_uri": "https://localhost:8080/",
          "height": 34
        },
        "outputId": "c7b73066-6e9b-40bb-e4f8-88f7cea50a89"
      },
      "source": [
        "mse=mean_absolute_error(y_test,predictions)\n",
        "r2=r2_score(y_test,predictions)\n",
        "print(mse,r2)"
      ],
      "execution_count": 37,
      "outputs": [
        {
          "output_type": "stream",
          "text": [
            "3.9207511902099244 0.9678055545167994\n"
          ],
          "name": "stdout"
        }
      ]
    },
    {
      "cell_type": "markdown",
      "metadata": {
        "id": "fxbBzKjoxSfY",
        "colab_type": "text"
      },
      "source": [
        "### Plotting all data together "
      ]
    },
    {
      "cell_type": "code",
      "metadata": {
        "id": "Ks6lrH3er--0",
        "colab_type": "code",
        "colab": {
          "base_uri": "https://localhost:8080/",
          "height": 279
        },
        "outputId": "ed325e66-f7e0-4938-e83c-7acb5d767efc"
      },
      "source": [
        "plt.scatter(X_train,y_train,c =\"blue\")\n",
        "plt.scatter(X_test,y_test,c='orange')\n",
        "# Plotting the regression line\n",
        "line = regressor.coef_*X+regressor.intercept_\n",
        "plt.plot(X, line,'red');\n",
        "plt.xlabel('Number of Hours Studied')  \n",
        "plt.ylabel('Score in Percentage')\n",
        "plt.show()"
      ],
      "execution_count": 72,
      "outputs": [
        {
          "output_type": "display_data",
          "data": {
            "image/png": "[encoded data removed]",
            "text/plain": [
              "<Figure size 432x288 with 1 Axes>"
            ]
          },
          "metadata": {
            "tags": [],
            "needs_background": "light"
          }
        }
      ]
    },
    {
      "cell_type": "markdown",
      "metadata": {
        "id": "Xs_srxNZ85tl",
        "colab_type": "text"
      },
      "source": [
        "**We can also test with  own data**"
      ]
    },
    {
      "cell_type": "code",
      "metadata": {
        "id": "vHcUhmdcuAKv",
        "colab_type": "code",
        "colab": {
          "base_uri": "https://localhost:8080/",
          "height": 328
        },
        "outputId": "b015bade-a0c0-4599-d854-68b3b3c80cb8"
      },
      "source": [
        "\n",
        "hours = [9.25,9.5,9.75,10,10.25,10.5,10.75,11,15]\n",
        "#converting data to array for prediction\n",
        "#our input must have same format as X_train or X_test\n",
        "own_pred = regressor.predict(np.array(hours).reshape(-1,1))\n",
        "dict={'hours':hours,'Score':own_pred}\n",
        "pd.DataFrame(dict)"
      ],
      "execution_count": 73,
      "outputs": [
        {
          "output_type": "execute_result",
          "data": {
            "text/html": [
              "<div>\n",
              "<style scoped>\n",
              "    .dataframe tbody tr th:only-of-type {\n",
              "        vertical-align: middle;\n",
              "    }\n",
              "\n",
              "    .dataframe tbody tr th {\n",
              "        vertical-align: top;\n",
              "    }\n",
              "\n",
              "    .dataframe thead th {\n",
              "        text-align: right;\n",
              "    }\n",
              "</style>\n",
              "<table border=\"1\" class=\"dataframe\">\n",
              "  <thead>\n",
              "    <tr style=\"text-align: right;\">\n",
              "      <th></th>\n",
              "      <th>hours</th>\n",
              "      <th>Score</th>\n",
              "    </tr>\n",
              "  </thead>\n",
              "  <tbody>\n",
              "    <tr>\n",
              "      <th>0</th>\n",
              "      <td>9.25</td>\n",
              "      <td>92.386115</td>\n",
              "    </tr>\n",
              "    <tr>\n",
              "      <th>1</th>\n",
              "      <td>9.50</td>\n",
              "      <td>94.806635</td>\n",
              "    </tr>\n",
              "    <tr>\n",
              "      <th>2</th>\n",
              "      <td>9.75</td>\n",
              "      <td>97.227154</td>\n",
              "    </tr>\n",
              "    <tr>\n",
              "      <th>3</th>\n",
              "      <td>10.00</td>\n",
              "      <td>99.647674</td>\n",
              "    </tr>\n",
              "    <tr>\n",
              "      <th>4</th>\n",
              "      <td>10.25</td>\n",
              "      <td>102.068193</td>\n",
              "    </tr>\n",
              "    <tr>\n",
              "      <th>5</th>\n",
              "      <td>10.50</td>\n",
              "      <td>104.488713</td>\n",
              "    </tr>\n",
              "    <tr>\n",
              "      <th>6</th>\n",
              "      <td>10.75</td>\n",
              "      <td>106.909233</td>\n",
              "    </tr>\n",
              "    <tr>\n",
              "      <th>7</th>\n",
              "      <td>11.00</td>\n",
              "      <td>109.329752</td>\n",
              "    </tr>\n",
              "    <tr>\n",
              "      <th>8</th>\n",
              "      <td>15.00</td>\n",
              "      <td>148.058065</td>\n",
              "    </tr>\n",
              "  </tbody>\n",
              "</table>\n",
              "</div>"
            ],
            "text/plain": [
              "   hours       Score\n",
              "0   9.25   92.386115\n",
              "1   9.50   94.806635\n",
              "2   9.75   97.227154\n",
              "3  10.00   99.647674\n",
              "4  10.25  102.068193\n",
              "5  10.50  104.488713\n",
              "6  10.75  106.909233\n",
              "7  11.00  109.329752\n",
              "8  15.00  148.058065"
            ]
          },
          "metadata": {
            "tags": []
          },
          "execution_count": 73
        }
      ]
    },
    {
      "cell_type": "markdown",
      "metadata": {
        "id": "J-MxuPteFRRz",
        "colab_type": "text"
      },
      "source": [
        "By seeing above score we can see that it does not generalises well on hours more than 10 hours. We will need more data near the score of 100 and we will have to use polynomial regression or any other non linear regression"
      ]
    },
    {
      "cell_type": "code",
      "metadata": {
        "id": "GIf-qp1xx5Kj",
        "colab_type": "code",
        "colab": {
          "base_uri": "https://localhost:8080/",
          "height": 136
        },
        "outputId": "f20d3d77-ced4-46dc-9d94-c27bd5779832"
      },
      "source": [
        "from sklearn.ensemble import RandomForestRegressor\n",
        "RFReg=RandomForestRegressor()\n",
        "RFReg.fit(X_train, y_train)"
      ],
      "execution_count": 74,
      "outputs": [
        {
          "output_type": "execute_result",
          "data": {
            "text/plain": [
              "RandomForestRegressor(bootstrap=True, ccp_alpha=0.0, criterion='mse',\n",
              "                      max_depth=None, max_features='auto', max_leaf_nodes=None,\n",
              "                      max_samples=None, min_impurity_decrease=0.0,\n",
              "                      min_impurity_split=None, min_samples_leaf=1,\n",
              "                      min_samples_split=2, min_weight_fraction_leaf=0.0,\n",
              "                      n_estimators=100, n_jobs=None, oob_score=False,\n",
              "                      random_state=None, verbose=0, warm_start=False)"
            ]
          },
          "metadata": {
            "tags": []
          },
          "execution_count": 74
        }
      ]
    },
    {
      "cell_type": "markdown",
      "metadata": {
        "id": "SUGuV2V4-mpN",
        "colab_type": "text"
      },
      "source": [
        "Finding predicted score using random forrest regressor and mean squared error and r2 score for data"
      ]
    },
    {
      "cell_type": "code",
      "metadata": {
        "id": "1S5anUzRB5fn",
        "colab_type": "code",
        "colab": {
          "base_uri": "https://localhost:8080/",
          "height": 119
        },
        "outputId": "7e573cf0-bacb-456e-b4f9-d3a6324cbc82"
      },
      "source": [
        "y_pred=RFReg.predict(X_test)\n",
        "pred_data_rfr = pd.DataFrame({'Actual': y_test, 'Predicted': y_pred,'difference':abs(y_test-y_pred)})  \n",
        "print(pred_data_rfr)"
      ],
      "execution_count": 75,
      "outputs": [
        {
          "output_type": "stream",
          "text": [
            "   Actual  Predicted  difference\n",
            "0      81  79.180000    1.820000\n",
            "1      30  27.515833    2.484167\n",
            "2      21  27.515833    6.515833\n",
            "3      76  73.440000    2.560000\n",
            "4      62  62.830000    0.830000\n"
          ],
          "name": "stdout"
        }
      ]
    },
    {
      "cell_type": "code",
      "metadata": {
        "id": "oF7C7M-OBiqG",
        "colab_type": "code",
        "colab": {
          "base_uri": "https://localhost:8080/",
          "height": 34
        },
        "outputId": "bb644e97-868f-42fd-9391-e47fb0082f05"
      },
      "source": [
        "mse_rfr=mean_absolute_error(y_test,y_pred)\n",
        "r2_rfr=r2_score(y_test,y_pred)\n",
        "print(mse_rfr,r2_rfr)"
      ],
      "execution_count": 76,
      "outputs": [
        {
          "output_type": "stream",
          "text": [
            "2.8419999999999987 0.9798837294168744\n"
          ],
          "name": "stdout"
        }
      ]
    },
    {
      "cell_type": "markdown",
      "metadata": {
        "id": "7UYKZcLt--HO",
        "colab_type": "text"
      },
      "source": [
        "Comparing the above mse and r2 score with linear regressor"
      ]
    },
    {
      "cell_type": "markdown",
      "metadata": {
        "id": "5A9y4duwDi33",
        "colab_type": "text"
      },
      "source": [
        "In general it looks like random forrest regressor has less **mean squared error** and more **r2_score** but we will have to see how good is generalises over data not between range of train data "
      ]
    },
    {
      "cell_type": "code",
      "metadata": {
        "id": "zrjcXYpM-5GK",
        "colab_type": "code",
        "colab": {
          "base_uri": "https://localhost:8080/",
          "height": 111
        },
        "outputId": "72d45808-f758-47f9-e68d-bbfecafc4ee1"
      },
      "source": [
        "dict_comp={'MSE':[mse,mse_rfr],'R2_score':[r2,r2_rfr]}\n",
        "pd.DataFrame(dict_comp,index=['LR','RFR'])"
      ],
      "execution_count": 77,
      "outputs": [
        {
          "output_type": "execute_result",
          "data": {
            "text/html": [
              "<div>\n",
              "<style scoped>\n",
              "    .dataframe tbody tr th:only-of-type {\n",
              "        vertical-align: middle;\n",
              "    }\n",
              "\n",
              "    .dataframe tbody tr th {\n",
              "        vertical-align: top;\n",
              "    }\n",
              "\n",
              "    .dataframe thead th {\n",
              "        text-align: right;\n",
              "    }\n",
              "</style>\n",
              "<table border=\"1\" class=\"dataframe\">\n",
              "  <thead>\n",
              "    <tr style=\"text-align: right;\">\n",
              "      <th></th>\n",
              "      <th>MSE</th>\n",
              "      <th>R2_score</th>\n",
              "    </tr>\n",
              "  </thead>\n",
              "  <tbody>\n",
              "    <tr>\n",
              "      <th>LR</th>\n",
              "      <td>3.920751</td>\n",
              "      <td>0.967806</td>\n",
              "    </tr>\n",
              "    <tr>\n",
              "      <th>RFR</th>\n",
              "      <td>2.842000</td>\n",
              "      <td>0.979884</td>\n",
              "    </tr>\n",
              "  </tbody>\n",
              "</table>\n",
              "</div>"
            ],
            "text/plain": [
              "          MSE  R2_score\n",
              "LR   3.920751  0.967806\n",
              "RFR  2.842000  0.979884"
            ]
          },
          "metadata": {
            "tags": []
          },
          "execution_count": 77
        }
      ]
    },
    {
      "cell_type": "markdown",
      "metadata": {
        "id": "tA6RDf48CfJ3",
        "colab_type": "text"
      },
      "source": [
        "Comparing the prediction with actual on whole data "
      ]
    },
    {
      "cell_type": "code",
      "metadata": {
        "id": "tfWhqG5FCd9b",
        "colab_type": "code",
        "colab": {
          "base_uri": "https://localhost:8080/",
          "height": 459
        },
        "outputId": "a5969374-b96a-49ea-e5a5-91fac2ad5e76"
      },
      "source": [
        "y_pred=RFReg.predict(X)\n",
        "pred_data_rfr = pd.DataFrame({'hours':X.reshape(25,), 'Actual': y, 'Predicted': y_pred,'difference':abs(y-y_pred)})  \n",
        "print(pred_data_rfr)"
      ],
      "execution_count": 78,
      "outputs": [
        {
          "output_type": "stream",
          "text": [
            "    hours  Actual  Predicted  difference\n",
            "0     2.5      21  27.515833    6.515833\n",
            "1     5.1      47  48.710000    1.710000\n",
            "2     3.2      27  30.273333    3.273333\n",
            "3     8.5      75  80.500000    5.500000\n",
            "4     3.5      30  31.870000    1.870000\n",
            "5     1.5      20  20.345000    0.345000\n",
            "6     9.2      88  88.580000    0.580000\n",
            "7     5.5      60  56.550000    3.450000\n",
            "8     8.3      81  79.180000    1.820000\n",
            "9     2.7      25  27.905833    2.905833\n",
            "10    7.7      85  83.590000    1.410000\n",
            "11    5.9      62  62.830000    0.830000\n",
            "12    4.5      41  44.640000    3.640000\n",
            "13    3.3      42  36.790000    5.210000\n",
            "14    1.1      17  19.205000    2.205000\n",
            "15    8.9      95  91.800000    3.200000\n",
            "16    2.5      30  27.515833    2.484167\n",
            "17    1.9      24  22.785000    1.215000\n",
            "18    6.1      67  63.390000    3.610000\n",
            "19    7.4      69  74.660000    5.660000\n",
            "20    2.7      30  27.905833    2.094167\n",
            "21    4.8      54  51.080000    2.920000\n",
            "22    3.8      35  34.040000    0.960000\n",
            "23    6.9      76  73.440000    2.560000\n",
            "24    7.8      86  84.020000    1.980000\n"
          ],
          "name": "stdout"
        }
      ]
    },
    {
      "cell_type": "markdown",
      "metadata": {
        "id": "Uo7LoOX7Cq1r",
        "colab_type": "text"
      },
      "source": [
        "Random forrest Regressor works well with random data in range of our train data.\n",
        "\n",
        "Problem arises when when we have data outside the range like study hours of 9.5+ it shows 88.1 constantly. \n",
        "\n"
      ]
    },
    {
      "cell_type": "code",
      "metadata": {
        "id": "edvLtjix_iX-",
        "colab_type": "code",
        "colab": {
          "base_uri": "https://localhost:8080/",
          "height": 328
        },
        "outputId": "5d2afc32-6606-483f-d04f-b69fcbb678c0"
      },
      "source": [
        "own_pred = RFReg.predict(np.array(hours).reshape(-1,1))\n",
        "dict_own_pred={'hours':hours,'Score':own_pred}\n",
        "pd.DataFrame(dict_own_pred)"
      ],
      "execution_count": 79,
      "outputs": [
        {
          "output_type": "execute_result",
          "data": {
            "text/html": [
              "<div>\n",
              "<style scoped>\n",
              "    .dataframe tbody tr th:only-of-type {\n",
              "        vertical-align: middle;\n",
              "    }\n",
              "\n",
              "    .dataframe tbody tr th {\n",
              "        vertical-align: top;\n",
              "    }\n",
              "\n",
              "    .dataframe thead th {\n",
              "        text-align: right;\n",
              "    }\n",
              "</style>\n",
              "<table border=\"1\" class=\"dataframe\">\n",
              "  <thead>\n",
              "    <tr style=\"text-align: right;\">\n",
              "      <th></th>\n",
              "      <th>hours</th>\n",
              "      <th>Score</th>\n",
              "    </tr>\n",
              "  </thead>\n",
              "  <tbody>\n",
              "    <tr>\n",
              "      <th>0</th>\n",
              "      <td>9.25</td>\n",
              "      <td>88.58</td>\n",
              "    </tr>\n",
              "    <tr>\n",
              "      <th>1</th>\n",
              "      <td>9.50</td>\n",
              "      <td>88.58</td>\n",
              "    </tr>\n",
              "    <tr>\n",
              "      <th>2</th>\n",
              "      <td>9.75</td>\n",
              "      <td>88.58</td>\n",
              "    </tr>\n",
              "    <tr>\n",
              "      <th>3</th>\n",
              "      <td>10.00</td>\n",
              "      <td>88.58</td>\n",
              "    </tr>\n",
              "    <tr>\n",
              "      <th>4</th>\n",
              "      <td>10.25</td>\n",
              "      <td>88.58</td>\n",
              "    </tr>\n",
              "    <tr>\n",
              "      <th>5</th>\n",
              "      <td>10.50</td>\n",
              "      <td>88.58</td>\n",
              "    </tr>\n",
              "    <tr>\n",
              "      <th>6</th>\n",
              "      <td>10.75</td>\n",
              "      <td>88.58</td>\n",
              "    </tr>\n",
              "    <tr>\n",
              "      <th>7</th>\n",
              "      <td>11.00</td>\n",
              "      <td>88.58</td>\n",
              "    </tr>\n",
              "    <tr>\n",
              "      <th>8</th>\n",
              "      <td>15.00</td>\n",
              "      <td>88.58</td>\n",
              "    </tr>\n",
              "  </tbody>\n",
              "</table>\n",
              "</div>"
            ],
            "text/plain": [
              "   hours  Score\n",
              "0   9.25  88.58\n",
              "1   9.50  88.58\n",
              "2   9.75  88.58\n",
              "3  10.00  88.58\n",
              "4  10.25  88.58\n",
              "5  10.50  88.58\n",
              "6  10.75  88.58\n",
              "7  11.00  88.58\n",
              "8  15.00  88.58"
            ]
          },
          "metadata": {
            "tags": []
          },
          "execution_count": 79
        }
      ]
    }
  ]
}